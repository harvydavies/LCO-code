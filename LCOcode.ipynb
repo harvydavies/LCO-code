{
  "nbformat": 4,
  "nbformat_minor": 0,
  "metadata": {
    "colab": {
      "provenance": [],
      "include_colab_link": true
    },
    "kernelspec": {
      "name": "python3",
      "display_name": "Python 3"
    },
    "language_info": {
      "name": "python"
    }
  },
  "cells": [
    {
      "cell_type": "markdown",
      "metadata": {
        "id": "view-in-github",
        "colab_type": "text"
      },
      "source": [
        "<a href=\"https://colab.research.google.com/github/harvydavies/LCO-code/blob/main/LCOcode.ipynb\" target=\"_parent\"><img src=\"https://colab.research.google.com/assets/colab-badge.svg\" alt=\"Open In Colab\"/></a>"
      ]
    },
    {
      "cell_type": "code",
      "source": [
        "! pip install -q uncertainties"
      ],
      "metadata": {
        "id": "BHB5rV0jcC7M"
      },
      "execution_count": 1,
      "outputs": []
    },
    {
      "cell_type": "code",
      "source": [
        "import numpy as np\n",
        "import matplotlib.pyplot as plt\n",
        "import uncertainties.unumpy as unp\n",
        "import pandas as pd"
      ],
      "metadata": {
        "id": "QU3cRhMNQEq9"
      },
      "execution_count": 2,
      "outputs": []
    },
    {
      "cell_type": "code",
      "source": [
        "# Read in the full final main LCO project data\n",
        "\n",
        "# GitHub CSV file URL\n",
        "csv_url = 'https://raw.githubusercontent.com/harvydavies/LCO-code/main/mainLCO%20project%20star%20matches.csv'\n",
        "\n",
        "# Read CSV file into a DataFrame\n",
        "df = pd.read_csv(csv_url, skiprows = 0)\n",
        "\n",
        "# Display the DataFrame\n",
        "print(df)"
      ],
      "metadata": {
        "id": "2dRMs8oaVbSW",
        "outputId": "6159edb6-1e3a-403f-fdf3-8a852f135437",
        "colab": {
          "base_uri": "https://localhost:8080/"
        }
      },
      "execution_count": 3,
      "outputs": [
        {
          "output_type": "stream",
          "name": "stdout",
          "text": [
            "      NUMBER_1  X_WORLD_1  Y_WORLD_1  XWIN_WORLD_1  YWIN_WORLD_1    X_IMAGE_1  \\\n",
            "0            1  91.697101  24.317994     91.697079     24.317986   120.051544   \n",
            "1            2  91.686296  23.940858     91.686318     23.940887  2503.764400   \n",
            "2            3  91.686318  24.122636     91.686314     24.122632  1354.925000   \n",
            "3            4  91.685363  24.121818     91.685361     24.121814  1360.116500   \n",
            "4            5  91.686472  24.263281     91.686453     24.263268   466.046300   \n",
            "...        ...        ...        ...           ...           ...          ...   \n",
            "3626      6016  92.020638  24.212338     92.020634     24.212339   779.318600   \n",
            "3627      6019  92.017405  24.146059     92.017374     24.146054  1198.307400   \n",
            "3628      6021  92.016479  24.171876     92.016467     24.171884  1035.173500   \n",
            "3629      6023  92.013909  23.903802     92.013859     23.903830  2729.471200   \n",
            "3630      6025  92.022465  24.175825     92.022510     24.175713  1010.018700   \n",
            "\n",
            "        Y_IMAGE_1    FLUX_ISO_1  FLUXERR_ISO_1  MAG_ISO (V)  ...  \\\n",
            "0       86.385900  9.763635e+05     1075.81630    11.425971  ...   \n",
            "1       32.070274  1.911878e+04      209.32008    15.696349  ...   \n",
            "2       28.379929  5.215248e+04      297.33563    14.606813  ...   \n",
            "3       22.891523  3.300514e+04      245.61860    15.103545  ...   \n",
            "4       26.321192  1.336824e+04      177.47180    16.084814  ...   \n",
            "...           ...           ...            ...          ...  ...   \n",
            "3626  1953.525300  2.923240e+03      108.88469    17.735338  ...   \n",
            "3627  1937.269800  4.724550e+04      291.68106    14.714099  ...   \n",
            "3628  1931.004800  3.065513e+06     1850.37010    10.183742  ...   \n",
            "3629  1925.762200  1.905098e+04      213.50917    15.700207  ...   \n",
            "3630  1965.373200  3.623432e+03       89.94304    17.502200  ...   \n",
            "\n",
            "      ISOAREA_IMAGE_2  CXX_IMAGE_2  CYY_IMAGE_2  CXY_IMAGE_2  A_IMAGE_2  \\\n",
            "0                 462     0.189888     0.174111    -0.005499   2.399761   \n",
            "1                  55     0.440467     0.450551     0.085651   1.576440   \n",
            "2                 102     0.309726     0.315867     0.023353   1.823545   \n",
            "3                  72     0.363921     0.397197    -0.025314   1.667468   \n",
            "4                  49     0.501032     0.443972    -0.050451   1.517209   \n",
            "...               ...          ...          ...          ...        ...   \n",
            "3626               23     0.767518     0.647457     0.051841   1.247954   \n",
            "3627               93     0.340932     0.321567     0.003219   1.763819   \n",
            "3628              918     0.139486     0.132937     0.000283   2.742726   \n",
            "3629               65     0.361317     0.332935    -0.120797   1.872899   \n",
            "3630                5     0.862231     1.900351    -0.985877   1.225853   \n",
            "\n",
            "      THETA_IMAGE_2  FLAGS_2  ELONGATION_2  ELLIPTICITY_2  Separation  \n",
            "0         80.391270        2      1.047004       0.044894    0.001145  \n",
            "1        -41.642456        0      1.101965       0.092530    0.116711  \n",
            "2        -37.633080        3      1.039373       0.037881    0.000000  \n",
            "3         18.631147        3      1.056528       0.053503    0.000000  \n",
            "4         69.258700        0      1.084125       0.077597    0.042977  \n",
            "...             ...      ...           ...            ...         ...  \n",
            "3626     -78.322970        0      1.097117       0.088521    0.039777  \n",
            "3627     -85.281580        0      1.030084       0.029206    0.026245  \n",
            "3628     -88.762764        6      1.024360       0.023780    0.001770  \n",
            "3629      51.611250        0      1.198025       0.165293    0.055361  \n",
            "3630      21.760717        0      1.775212       0.436687    0.008849  \n",
            "\n",
            "[3631 rows x 47 columns]\n"
          ]
        }
      ]
    },
    {
      "cell_type": "code",
      "source": [
        "print(df.columns)"
      ],
      "metadata": {
        "id": "nYQXIzqbU7mQ",
        "outputId": "7ab8148d-e4a7-4af2-f90c-d5abafa6a160",
        "colab": {
          "base_uri": "https://localhost:8080/"
        }
      },
      "execution_count": 4,
      "outputs": [
        {
          "output_type": "stream",
          "name": "stdout",
          "text": [
            "Index(['NUMBER_1', 'X_WORLD_1', 'Y_WORLD_1', 'XWIN_WORLD_1', 'YWIN_WORLD_1',\n",
            "       'X_IMAGE_1', 'Y_IMAGE_1', 'FLUX_ISO_1', 'FLUXERR_ISO_1', 'MAG_ISO (V)',\n",
            "       'MAGERR_ISO (V)', 'FLUX_AUTO_1', 'FLUXERR_AUTO_1', 'FLUX_MAX_1',\n",
            "       'ISOAREA_IMAGE_1', 'CXX_IMAGE_1', 'CYY_IMAGE_1', 'CXY_IMAGE_1',\n",
            "       'A_IMAGE_1', 'THETA_IMAGE_1', 'FLAGS_1', 'ELONGATION_1',\n",
            "       'ELLIPTICITY_1', 'NUMBER_2', 'X_WORLD_2', 'Y_WORLD_2', 'XWIN_WORLD_2',\n",
            "       'YWIN_WORLD_2', 'X_IMAGE_2', 'Y_IMAGE_2', 'FLUX_ISO_2', 'FLUXERR_ISO_2',\n",
            "       'MAG_ISO (B)', 'MAGERR_ISO (B)', 'FLUX_AUTO_2', 'FLUXERR_AUTO_2',\n",
            "       'FLUX_MAX_2', 'ISOAREA_IMAGE_2', 'CXX_IMAGE_2', 'CYY_IMAGE_2',\n",
            "       'CXY_IMAGE_2', 'A_IMAGE_2', 'THETA_IMAGE_2', 'FLAGS_2', 'ELONGATION_2',\n",
            "       'ELLIPTICITY_2', 'Separation'],\n",
            "      dtype='object')\n"
          ]
        }
      ]
    },
    {
      "cell_type": "code",
      "source": [
        "# Slicing out the V,Verr,B and Berr columns\n",
        "\n",
        "# Slice out the column \"MAG_ISO (V)\"\n",
        "Vmag_column = df[\"MAG_ISO (V)\"]\n",
        "\n",
        "# Display the sliced column\n",
        "print(Vmag_column)\n",
        "\n",
        "# Slice out the column \"MAGERR_ISO (V)\"\n",
        "Verr_column = df[\"MAGERR_ISO (V)\"]\n",
        "\n",
        "# Display the sliced column\n",
        "print(Verr_column)\n",
        "\n",
        "# Slice out the column \"MAG_ISO (B)\"\n",
        "Bmag_column = df[\"MAG_ISO (B)\"]\n",
        "\n",
        "# Display the sliced column\n",
        "print(Bmag_column)\n",
        "\n",
        "# Slice out the column \"MAGERR_ISO (B)\"\n",
        "Berr_column = df[\"MAGERR_ISO (B)\"]\n",
        "\n",
        "# Display the sliced column\n",
        "print(Berr_column)"
      ],
      "metadata": {
        "id": "mIsOeeI8WbJ-",
        "outputId": "c8260f13-128b-4dd6-af88-69358fd82952",
        "colab": {
          "base_uri": "https://localhost:8080/"
        }
      },
      "execution_count": 5,
      "outputs": [
        {
          "output_type": "stream",
          "name": "stdout",
          "text": [
            "0       11.425971\n",
            "1       15.696349\n",
            "2       14.606813\n",
            "3       15.103545\n",
            "4       16.084814\n",
            "          ...    \n",
            "3626    17.735338\n",
            "3627    14.714099\n",
            "3628    10.183742\n",
            "3629    15.700207\n",
            "3630    17.502200\n",
            "Name: MAG_ISO (V), Length: 3631, dtype: float64\n",
            "0       0.001197\n",
            "1       0.011890\n",
            "2       0.006192\n",
            "3       0.008082\n",
            "4       0.014417\n",
            "          ...   \n",
            "3626    0.040451\n",
            "3627    0.006705\n",
            "3628    0.000656\n",
            "3629    0.012171\n",
            "3630    0.026957\n",
            "Name: MAGERR_ISO (V), Length: 3631, dtype: float64\n",
            "0       11.434964\n",
            "1       15.769723\n",
            "2       14.623205\n",
            "3       15.156681\n",
            "4       16.136606\n",
            "          ...    \n",
            "3626    17.852450\n",
            "3627    14.755794\n",
            "3628    10.189343\n",
            "3629    15.764740\n",
            "3630    17.433414\n",
            "Name: MAG_ISO (B), Length: 3631, dtype: float64\n",
            "0       0.001171\n",
            "1       0.010926\n",
            "2       0.005911\n",
            "3       0.007753\n",
            "4       0.013708\n",
            "          ...   \n",
            "3626    0.038525\n",
            "3627    0.006327\n",
            "3628    0.000646\n",
            "3629    0.011322\n",
            "3630    0.025262\n",
            "Name: MAGERR_ISO (B), Length: 3631, dtype: float64\n"
          ]
        }
      ]
    },
    {
      "cell_type": "code",
      "source": [
        "#Vtot (Vtotal) = Vmag combined with Verr in an array.\n",
        "#Btot (Btotal) = Bmag combined with Berr in an array.\n",
        "\n",
        "Vtot = unp.uarray(Vmag_column,Verr_column)\n",
        "print(Vtot)\n",
        "\n",
        "Btot = unp.uarray(Bmag_column,Berr_column)\n",
        "print(Btot)\n",
        "\n",
        "BVtot = Btot - Vtot\n",
        "print(BVtot)"
      ],
      "metadata": {
        "id": "NmuZol2hbX4F",
        "outputId": "17823989-4132-48c2-a571-279f56aaab66",
        "colab": {
          "base_uri": "https://localhost:8080/"
        }
      },
      "execution_count": 6,
      "outputs": [
        {
          "output_type": "stream",
          "name": "stdout",
          "text": [
            "[11.425971+/-0.00119662 15.696349+/-0.011889963 14.6068125+/-0.006191584\n",
            " ... 10.183742+/-0.000656 15.700207+/-0.012171079 17.5022+/-0.026957354]\n",
            "[11.434964+/-0.00117118 15.769723+/-0.010925719 14.623205+/-0.005910563\n",
            " ... 10.1893425+/-0.000646 15.76474+/-0.01132239 17.433414+/-0.0252622]\n",
            "[0.00899300000000025+/-0.0016743840708750186\n",
            " 0.07337400000000116+/-0.016147524757941387\n",
            " 0.016392500000000254+/-0.008559817019424248 ...\n",
            " 0.005600499999999897+/-0.0009206801833427284\n",
            " 0.06453299999999906+/-0.01662322710355426\n",
            " -0.06878599999999935+/-0.0369442510212525]\n"
          ]
        }
      ]
    },
    {
      "cell_type": "code",
      "source": [
        "# Extract array of just the values\n",
        "BVmag = np.array([val.nominal_value for val in BVtot])\n",
        "\n",
        "# Display the values array\n",
        "print(\"Values array:\", BVmag)\n",
        "\n",
        "# Extract array of just the errors\n",
        "BVerr = np.array([val.std_dev for val in BVtot])\n",
        "\n",
        "# Display the errors array\n",
        "print(\"Errors array:\", BVerr)"
      ],
      "metadata": {
        "id": "y2w_8oj7eKJD",
        "outputId": "f64e7562-189c-43aa-edbd-269f9c283cad",
        "colab": {
          "base_uri": "https://localhost:8080/"
        }
      },
      "execution_count": 7,
      "outputs": [
        {
          "output_type": "stream",
          "name": "stdout",
          "text": [
            "Values array: [ 0.008993   0.073374   0.0163925 ...  0.0056005  0.064533  -0.068786 ]\n",
            "Errors array: [0.00167438 0.01614752 0.00855982 ... 0.00092068 0.01662323 0.03694425]\n"
          ]
        }
      ]
    },
    {
      "cell_type": "code",
      "source": [
        "plt.errorbar(BVmag,Vmag_column, xerr = BVerr, yerr = Verr_column, linestyle='')\n",
        "\n",
        "# Setting the y-axis range from 24 to 12\n",
        "#plt.ylim(22, 16)\n",
        "#plt.xlim(-0.5, 1.5)\n",
        "\n",
        "# Adding labels and title\n",
        "plt.xlabel('(B-V)mag')\n",
        "plt.ylabel('Vmag')\n",
        "plt.title('H-R diagram')\n",
        "\n",
        "# Flip the y-axis\n",
        "plt.gca().invert_yaxis()\n",
        "\n",
        "# Display the plot\n",
        "plt.show()"
      ],
      "metadata": {
        "id": "fBlmxtA6Z9JO",
        "outputId": "7adfbbbf-c26c-47aa-b265-cc9a2e1da4b7",
        "colab": {
          "base_uri": "https://localhost:8080/",
          "height": 472
        }
      },
      "execution_count": 12,
      "outputs": [
        {
          "output_type": "display_data",
          "data": {
            "text/plain": [
              "<Figure size 640x480 with 1 Axes>"
            ],
            "image/png": "[encoded data removed]"
          },
          "metadata": {}
        }
      ]
    },
    {
      "cell_type": "code",
      "source": [
        "# Read in isochronedata.csv from github\n",
        "\n",
        "# GitHub CSV file URL\n",
        "csv_url = 'https://raw.githubusercontent.com/harvydavies/LCO-code/main/isochronedata.csv'\n",
        "\n",
        "# Read CSV file into a DataFrame\n",
        "iso = pd.read_csv(csv_url, skiprows = 13)\n",
        "\n",
        "# Display the DataFrame\n",
        "print(iso)"
      ],
      "metadata": {
        "id": "73O5sMtYVVcQ"
      },
      "execution_count": null,
      "outputs": []
    }
  ]
}