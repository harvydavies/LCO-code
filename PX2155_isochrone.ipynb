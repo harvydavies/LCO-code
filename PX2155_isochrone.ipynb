{
  "nbformat": 4,
  "nbformat_minor": 0,
  "metadata": {
    "colab": {
      "name": "PX2155_isochrone.ipynb",
      "provenance": [],
      "collapsed_sections": []
    },
    "kernelspec": {
      "name": "python3",
      "display_name": "Python 3"
    }
  },
  "cells": [
    {
      "cell_type": "code",
      "metadata": {
        "id": "rmqYxBGaKSLj"
      },
      "source": [
        "import numpy as np"
      ],
      "execution_count": 1,
      "outputs": []
    },
    {
      "cell_type": "markdown",
      "metadata": {
        "id": "bGkM-XTtLLqW"
      },
      "source": [
        "The file `UBV.dat` contains isochrones of ages from 1-10 Gyr. These are for a fixed metallicity of -1.33, which is the current best estimate for M13. Here we read in this file of isochrone models in order to plot them with our measurements.\n",
        "\n",
        "This table has 37 columns, so I provide a shortcut so that you read in only the columns you need!\n",
        "\n",
        "`logAge` = base 10 log of the age for a given isochrone (col 2)\n",
        "\n",
        "`Bmag` = model B absolute magnitude (col 27)\n",
        "\n",
        "`Vmag` = model V absolute magnitude (col 28)"
      ]
    },
    {
      "cell_type": "code",
      "metadata": {
        "id": "T8OrcXMxKYl1"
      },
      "source": [
        "ubv_iso_logAge, ubv_iso_Bmag, ubv_iso_Vmag = np.loadtxt('UBV.dat',usecols=(2,27,28),unpack=True)"
      ],
      "execution_count": 8,
      "outputs": []
    },
    {
      "cell_type": "markdown",
      "metadata": {
        "id": "zvrajHjOMXUq"
      },
      "source": [
        "The models of different ages are listed one after the other in this file. We can use `numpy`'s `unique` function to see what ages it contains."
      ]
    },
    {
      "cell_type": "code",
      "metadata": {
        "id": "CWGHuG6dKlzQ",
        "outputId": "407d85e4-1879-412c-aada-5eb6d6ba5aee",
        "colab": {
          "base_uri": "https://localhost:8080/",
          "height": 69
        }
      },
      "source": [
        "np.unique(ubv_iso_logAge)"
      ],
      "execution_count": 3,
      "outputs": [
        {
          "output_type": "execute_result",
          "data": {
            "text/plain": [
              "array([ 9.     ,  9.30103,  9.47712,  9.60206,  9.69897,  9.77815,\n",
              "        9.8451 ,  9.90309,  9.95424, 10.     , 10.04139, 10.07918,\n",
              "       10.11394, 10.14613, 10.17609, 10.20412, 10.23045, 10.25527])"
            ]
          },
          "metadata": {
            "tags": []
          },
          "execution_count": 3
        }
      ]
    },
    {
      "cell_type": "markdown",
      "metadata": {
        "id": "Bl__5ob3Ms9o"
      },
      "source": [
        "From here, you can sort through this data by creating arrays that match the age you want to use. Use the `where` function to find the corresponding indices."
      ]
    },
    {
      "cell_type": "code",
      "metadata": {
        "id": "_qXYe3X3M9E9"
      },
      "source": [
        "age1 = np.where(ubv_iso_logAge == 9.0)\n",
        "age2 = np.where(ubv_iso_logAge == 9.60206)\n",
        "# and so on"
      ],
      "execution_count": 5,
      "outputs": []
    },
    {
      "cell_type": "markdown",
      "metadata": {
        "id": "opd3gPWpNRfq"
      },
      "source": [
        "Now the variable `age2` for example contains the indices of the table that correspond to 10$^{9.60206}$ years.\n",
        "\n",
        "To grab the entries of your magnitude arrays for this age isochrone, just use the indices as an argument."
      ]
    },
    {
      "cell_type": "code",
      "metadata": {
        "id": "wtxYFMI7OFoI"
      },
      "source": [
        "# isochrone mangitudes for age2\n",
        "Bmags_age2 = ubv_iso_Bmag[age2]\n",
        "Vmags_age2 = ubv_iso_Vmag[age2]"
      ],
      "execution_count": 9,
      "outputs": []
    },
    {
      "cell_type": "markdown",
      "metadata": {
        "id": "HZkNneuQOUWA"
      },
      "source": [
        "Now you have all you need to plot the isochrone model (an H-R diagram using B and V) to directly compare to your M13 observations!"
      ]
    }
  ]
}